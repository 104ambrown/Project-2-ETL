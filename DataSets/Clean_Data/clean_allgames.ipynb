{
 "cells": [
  {
   "cell_type": "code",
   "execution_count": 3,
   "id": "ac10f272",
   "metadata": {},
   "outputs": [],
   "source": [
    "#importing dependencies\n",
    "import pandas as pd\n",
    "import csv\n",
    "import psycopg2"
   ]
  },
  {
   "cell_type": "code",
   "execution_count": 4,
   "id": "6f360c3a",
   "metadata": {},
   "outputs": [],
   "source": [
    "# create a reference to the csv and import into pandas dataframe\n",
    "csv_path = (r\"C:\\Users\\abrow\\Desktop\\EMERSON_BOOTCAMP\\BOOTCAMP_AMB\\Project 2\\Project-2-ETL\\DataSets\\all_games.csv\")\n",
    "all_games_df = pd.read_csv(csv_path)"
   ]
  },
  {
   "cell_type": "code",
   "execution_count": 5,
   "id": "42068fc1",
   "metadata": {},
   "outputs": [
    {
     "data": {
      "text/html": [
       "<div>\n",
       "<style scoped>\n",
       "    .dataframe tbody tr th:only-of-type {\n",
       "        vertical-align: middle;\n",
       "    }\n",
       "\n",
       "    .dataframe tbody tr th {\n",
       "        vertical-align: top;\n",
       "    }\n",
       "\n",
       "    .dataframe thead th {\n",
       "        text-align: right;\n",
       "    }\n",
       "</style>\n",
       "<table border=\"1\" class=\"dataframe\">\n",
       "  <thead>\n",
       "    <tr style=\"text-align: right;\">\n",
       "      <th></th>\n",
       "      <th>name</th>\n",
       "      <th>platform</th>\n",
       "      <th>release_date</th>\n",
       "      <th>summary</th>\n",
       "      <th>meta_score</th>\n",
       "      <th>user_review</th>\n",
       "    </tr>\n",
       "  </thead>\n",
       "  <tbody>\n",
       "    <tr>\n",
       "      <th>0</th>\n",
       "      <td>The Legend of Zelda: Ocarina of Time</td>\n",
       "      <td>Nintendo 64</td>\n",
       "      <td>23-Nov-98</td>\n",
       "      <td>As a young boy, Link is tricked by Ganondorf, ...</td>\n",
       "      <td>99</td>\n",
       "      <td>9.1</td>\n",
       "    </tr>\n",
       "    <tr>\n",
       "      <th>1</th>\n",
       "      <td>Tony Hawk's Pro Skater 2</td>\n",
       "      <td>PlayStation</td>\n",
       "      <td>20-Sep-00</td>\n",
       "      <td>As most major publishers' development efforts ...</td>\n",
       "      <td>98</td>\n",
       "      <td>7.4</td>\n",
       "    </tr>\n",
       "    <tr>\n",
       "      <th>2</th>\n",
       "      <td>Grand Theft Auto IV</td>\n",
       "      <td>PlayStation 3</td>\n",
       "      <td>29-Apr-08</td>\n",
       "      <td>[Metacritic's 2008 PS3 Game of the Year; Also ...</td>\n",
       "      <td>98</td>\n",
       "      <td>7.7</td>\n",
       "    </tr>\n",
       "    <tr>\n",
       "      <th>3</th>\n",
       "      <td>SoulCalibur</td>\n",
       "      <td>Dreamcast</td>\n",
       "      <td>8-Sep-99</td>\n",
       "      <td>This is a tale of souls and swords, transcendi...</td>\n",
       "      <td>98</td>\n",
       "      <td>8.4</td>\n",
       "    </tr>\n",
       "    <tr>\n",
       "      <th>4</th>\n",
       "      <td>Grand Theft Auto IV</td>\n",
       "      <td>Xbox 360</td>\n",
       "      <td>29-Apr-08</td>\n",
       "      <td>[Metacritic's 2008 Xbox 360 Game of the Year; ...</td>\n",
       "      <td>98</td>\n",
       "      <td>7.9</td>\n",
       "    </tr>\n",
       "  </tbody>\n",
       "</table>\n",
       "</div>"
      ],
      "text/plain": [
       "                                   name        platform release_date  \\\n",
       "0  The Legend of Zelda: Ocarina of Time     Nintendo 64    23-Nov-98   \n",
       "1              Tony Hawk's Pro Skater 2     PlayStation    20-Sep-00   \n",
       "2                   Grand Theft Auto IV   PlayStation 3    29-Apr-08   \n",
       "3                           SoulCalibur       Dreamcast     8-Sep-99   \n",
       "4                   Grand Theft Auto IV        Xbox 360    29-Apr-08   \n",
       "\n",
       "                                             summary  meta_score user_review  \n",
       "0  As a young boy, Link is tricked by Ganondorf, ...          99         9.1  \n",
       "1  As most major publishers' development efforts ...          98         7.4  \n",
       "2  [Metacritic's 2008 PS3 Game of the Year; Also ...          98         7.7  \n",
       "3  This is a tale of souls and swords, transcendi...          98         8.4  \n",
       "4  [Metacritic's 2008 Xbox 360 Game of the Year; ...          98         7.9  "
      ]
     },
     "execution_count": 5,
     "metadata": {},
     "output_type": "execute_result"
    }
   ],
   "source": [
    "# Displaying the CSV\n",
    "all_games_df.head()"
   ]
  },
  {
   "cell_type": "code",
   "execution_count": 7,
   "id": "d251ba2c",
   "metadata": {},
   "outputs": [
    {
     "data": {
      "text/plain": [
       "array([' Nintendo 64', ' PlayStation', ' PlayStation 3', ' Dreamcast',\n",
       "       ' Xbox 360', ' Wii', ' Xbox One', ' PC', ' Switch',\n",
       "       ' PlayStation 2', ' PlayStation 4', ' GameCube', ' Xbox', ' Wii U',\n",
       "       ' Game Boy Advance', ' 3DS', ' Xbox Series X', ' DS',\n",
       "       ' PlayStation Vita', ' PlayStation 5', ' PSP', ' Stadia'],\n",
       "      dtype=object)"
      ]
     },
     "execution_count": 7,
     "metadata": {},
     "output_type": "execute_result"
    }
   ],
   "source": [
    "#finding all the different platforms that are listed in the data set. Separate dataframes for each one will be used to make importing data to SQL easier\n",
    "unique = all_games_df[\"platform\"].unique()\n",
    "unique"
   ]
  },
  {
   "cell_type": "code",
   "execution_count": 9,
   "id": "b071e205",
   "metadata": {
    "scrolled": true
   },
   "outputs": [
    {
     "data": {
      "text/plain": [
       "name            object\n",
       "platform        object\n",
       "release_date    object\n",
       "summary         object\n",
       "meta_score       int64\n",
       "user_review     object\n",
       "dtype: object"
      ]
     },
     "execution_count": 9,
     "metadata": {},
     "output_type": "execute_result"
    }
   ],
   "source": [
    "#getting the data types for each column\n",
    "all_games_df.dtypes"
   ]
  },
  {
   "cell_type": "code",
   "execution_count": 12,
   "id": "22069e55",
   "metadata": {},
   "outputs": [],
   "source": [
    "#converting release_date to datetime from object\n",
    "all_games_df['release_date']=pd.to_datetime(all_games_df['release_date'], infer_datetime_format=True)"
   ]
  },
  {
   "cell_type": "code",
   "execution_count": null,
   "id": "9012d4e6",
   "metadata": {},
   "outputs": [],
   "source": []
  },
  {
   "cell_type": "code",
   "execution_count": null,
   "id": "e7ab443e",
   "metadata": {},
   "outputs": [],
   "source": [
    "#Exporting files as CSVs\n",
    "Nintendo64_df.to_csv(\"Output/Nintendo64_df.csv\" index=False, header=True)\n",
    "PlayStation_df.to_csv(\"Output/PlayStation_df.csv\" index=False, header=True)\n",
    "PS3_df.to_csv(\"Output/PS3_df.csv\" index=False, header=True)\n",
    "Dreamcast_df.to_csv(\"Output/.Dreamcast_dfcsv\" index=False, header=True)\n",
    "Xbox_360_df.to_csv(\"Output/Xbox_360_df.csv\" index=False, header=True)\n",
    "Wii_df.to_csv(\"Output/Wii_df.csv\" index=False, header=True)\n",
    "Xbox_One_df.to_csv(\"Output/Xbox_One_df.csv\" index=False, header=True)\n",
    "PC_df.to_csv(\"Output/PC_df.csv\" index=False, header=True)\n",
    "Switch_df.to_csv(\"Output/Switch_df.csv\" index=False, header=True)\n",
    "PS2_df.to_csv(\"Output/PS2_df.csv\" index=False, header=True)\n",
    "PS4_df.to_csv(\"Output/PS4_df.csv\" index=False, header=True)\n",
    "GameCube_df.to_csv(\"Output/GameCube_df.csv\" index=False, header=True)\n",
    "Xbox_df.to_csv(\"Output/Xbox_df.csv\" index=False, header=True)\n",
    "Wii_U_df.to_csv(\"Output/Wii_U_df.csv\" index=False, header=True)\n",
    "GameBoy_Advance_df.to_csv(\"Output/GameBoy_Advance_df.csv\" index=False, header=True)\n",
    "3DS_df.to_csv(\"Output/3DS_df.csv\" index=False, header=True)\n",
    "Xbox_SeriesX_df.to_csv(\"Output/Xbox_SeriesX_df.csv\" index=False, header=True)\n",
    "DS_df.to_csv(\"Output/DS_df.csv\" index=False, header=True)\n",
    "PlayStation_Vita_df.to_csv(\"Output/PlayStation_Vita_df.csv\" index=False, header=True)\n",
    "PS5_df.to_csv(\"Output/PS5_df.csv\" index=False, header=True)\n",
    "PSP_df.to_csv(\"Output/PSP_df.csv\" index=False, header=True)\n",
    "Stadia_df.to_csv(\"Output/Stadia_df.csv\" index=False, header=True)"
   ]
  }
 ],
 "metadata": {
  "kernelspec": {
   "display_name": "Python 3",
   "language": "python",
   "name": "python3"
  },
  "language_info": {
   "codemirror_mode": {
    "name": "ipython",
    "version": 3
   },
   "file_extension": ".py",
   "mimetype": "text/x-python",
   "name": "python",
   "nbconvert_exporter": "python",
   "pygments_lexer": "ipython3",
   "version": "3.8.8"
  }
 },
 "nbformat": 4,
 "nbformat_minor": 5
}
