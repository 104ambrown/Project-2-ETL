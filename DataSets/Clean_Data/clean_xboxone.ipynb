{
 "cells": [
  {
   "cell_type": "code",
   "execution_count": 22,
   "id": "34fe29d6",
   "metadata": {},
   "outputs": [],
   "source": [
    "import pandas as pd\n",
    "import csv\n",
    "import numpy as np\n",
    "from sqlalchemy import create_engine"
   ]
  },
  {
   "cell_type": "code",
   "execution_count": 23,
   "id": "0108f89e",
   "metadata": {},
   "outputs": [],
   "source": [
    "# create a reference to the csv and import into pandas dataframe\n",
    "csv_path = (r\"C:\\\\Users\\\\abrow\\\\Desktop\\\\EMERSON_BOOTCAMP\\\\BOOTCAMP_AMB\\\\Project 2\\\\Project-2-ETL\\\\DataSets\\XboxOne_GameSales.csv\")\n",
    "xb1_games_df = pd.read_csv(csv_path)"
   ]
  },
  {
   "cell_type": "code",
   "execution_count": 24,
   "id": "716812bd",
   "metadata": {},
   "outputs": [
    {
     "data": {
      "text/html": [
       "<div>\n",
       "<style scoped>\n",
       "    .dataframe tbody tr th:only-of-type {\n",
       "        vertical-align: middle;\n",
       "    }\n",
       "\n",
       "    .dataframe tbody tr th {\n",
       "        vertical-align: top;\n",
       "    }\n",
       "\n",
       "    .dataframe thead th {\n",
       "        text-align: right;\n",
       "    }\n",
       "</style>\n",
       "<table border=\"1\" class=\"dataframe\">\n",
       "  <thead>\n",
       "    <tr style=\"text-align: right;\">\n",
       "      <th></th>\n",
       "      <th>Pos</th>\n",
       "      <th>Game</th>\n",
       "      <th>Year</th>\n",
       "      <th>Genre</th>\n",
       "      <th>Publisher</th>\n",
       "      <th>North America</th>\n",
       "      <th>Europe</th>\n",
       "      <th>Japan</th>\n",
       "      <th>Rest of World</th>\n",
       "      <th>Global</th>\n",
       "      <th>Platform</th>\n",
       "    </tr>\n",
       "  </thead>\n",
       "  <tbody>\n",
       "    <tr>\n",
       "      <th>0</th>\n",
       "      <td>1</td>\n",
       "      <td>Grand Theft Auto V</td>\n",
       "      <td>2014.0</td>\n",
       "      <td>Action</td>\n",
       "      <td>Rockstar Games</td>\n",
       "      <td>4.70</td>\n",
       "      <td>3.25</td>\n",
       "      <td>0.01</td>\n",
       "      <td>0.76</td>\n",
       "      <td>8.72</td>\n",
       "      <td>Xbox One</td>\n",
       "    </tr>\n",
       "    <tr>\n",
       "      <th>1</th>\n",
       "      <td>2</td>\n",
       "      <td>Call of Duty: Black Ops 3</td>\n",
       "      <td>2015.0</td>\n",
       "      <td>Shooter</td>\n",
       "      <td>Activision</td>\n",
       "      <td>4.63</td>\n",
       "      <td>2.04</td>\n",
       "      <td>0.02</td>\n",
       "      <td>0.68</td>\n",
       "      <td>7.37</td>\n",
       "      <td>Xbox One</td>\n",
       "    </tr>\n",
       "    <tr>\n",
       "      <th>2</th>\n",
       "      <td>3</td>\n",
       "      <td>Call of Duty: WWII</td>\n",
       "      <td>2017.0</td>\n",
       "      <td>Shooter</td>\n",
       "      <td>Activision</td>\n",
       "      <td>3.75</td>\n",
       "      <td>1.91</td>\n",
       "      <td>0.00</td>\n",
       "      <td>0.57</td>\n",
       "      <td>6.23</td>\n",
       "      <td>Xbox One</td>\n",
       "    </tr>\n",
       "    <tr>\n",
       "      <th>3</th>\n",
       "      <td>4</td>\n",
       "      <td>Red Dead Redemption 2</td>\n",
       "      <td>2018.0</td>\n",
       "      <td>Action-Adventure</td>\n",
       "      <td>Rockstar Games</td>\n",
       "      <td>3.76</td>\n",
       "      <td>1.47</td>\n",
       "      <td>0.00</td>\n",
       "      <td>0.54</td>\n",
       "      <td>5.77</td>\n",
       "      <td>Xbox One</td>\n",
       "    </tr>\n",
       "    <tr>\n",
       "      <th>4</th>\n",
       "      <td>5</td>\n",
       "      <td>MineCraft</td>\n",
       "      <td>2014.0</td>\n",
       "      <td>Misc</td>\n",
       "      <td>Microsoft Studios</td>\n",
       "      <td>3.23</td>\n",
       "      <td>1.71</td>\n",
       "      <td>0.00</td>\n",
       "      <td>0.49</td>\n",
       "      <td>5.43</td>\n",
       "      <td>Xbox One</td>\n",
       "    </tr>\n",
       "  </tbody>\n",
       "</table>\n",
       "</div>"
      ],
      "text/plain": [
       "   Pos                       Game    Year             Genre  \\\n",
       "0    1         Grand Theft Auto V  2014.0            Action   \n",
       "1    2  Call of Duty: Black Ops 3  2015.0           Shooter   \n",
       "2    3         Call of Duty: WWII  2017.0           Shooter   \n",
       "3    4      Red Dead Redemption 2  2018.0  Action-Adventure   \n",
       "4    5                  MineCraft  2014.0              Misc   \n",
       "\n",
       "           Publisher  North America  Europe  Japan  Rest of World  Global  \\\n",
       "0     Rockstar Games           4.70    3.25   0.01           0.76    8.72   \n",
       "1         Activision           4.63    2.04   0.02           0.68    7.37   \n",
       "2         Activision           3.75    1.91   0.00           0.57    6.23   \n",
       "3     Rockstar Games           3.76    1.47   0.00           0.54    5.77   \n",
       "4  Microsoft Studios           3.23    1.71   0.00           0.49    5.43   \n",
       "\n",
       "   Platform  \n",
       "0  Xbox One  \n",
       "1  Xbox One  \n",
       "2  Xbox One  \n",
       "3  Xbox One  \n",
       "4  Xbox One  "
      ]
     },
     "execution_count": 24,
     "metadata": {},
     "output_type": "execute_result"
    }
   ],
   "source": [
    "xb1_games_df.head()"
   ]
  },
  {
   "cell_type": "code",
   "execution_count": 25,
   "id": "3e2ad6b3",
   "metadata": {},
   "outputs": [
    {
     "data": {
      "text/plain": [
       "Pos                int64\n",
       "Game              object\n",
       "Year             float64\n",
       "Genre             object\n",
       "Publisher         object\n",
       "North America    float64\n",
       "Europe           float64\n",
       "Japan            float64\n",
       "Rest of World    float64\n",
       "Global           float64\n",
       "Platform          object\n",
       "dtype: object"
      ]
     },
     "execution_count": 25,
     "metadata": {},
     "output_type": "execute_result"
    }
   ],
   "source": [
    "# finding what types of data each column is stored as... gotta get rid of the pesky .0 after the \"year\"\n",
    "xb1_games_df.dtypes"
   ]
  },
  {
   "cell_type": "code",
   "execution_count": 26,
   "id": "8d6a3e5b",
   "metadata": {},
   "outputs": [
    {
     "data": {
      "text/plain": [
       "0      2014.0\n",
       "1      2015.0\n",
       "2      2017.0\n",
       "3      2018.0\n",
       "4      2014.0\n",
       "        ...  \n",
       "608    2018.0\n",
       "609    2019.0\n",
       "610    2017.0\n",
       "611    2017.0\n",
       "612    2019.0\n",
       "Name: Year, Length: 613, dtype: float64"
      ]
     },
     "execution_count": 26,
     "metadata": {},
     "output_type": "execute_result"
    }
   ],
   "source": [
    "# Using pd.numeric to convert \"Year\" to numeric from float64\n",
    "xb1_games_df[\"Year\"].astype('int', errors='ignore')"
   ]
  },
  {
   "cell_type": "code",
   "execution_count": 27,
   "id": "4873cd2c",
   "metadata": {
    "scrolled": true
   },
   "outputs": [
    {
     "data": {
      "text/plain": [
       "dtype('float64')"
      ]
     },
     "execution_count": 27,
     "metadata": {},
     "output_type": "execute_result"
    }
   ],
   "source": [
    "# verfiying column data type change\n",
    "xb1_games_df['Year'].dtype"
   ]
  },
  {
   "cell_type": "code",
   "execution_count": 30,
   "id": "b9626978",
   "metadata": {},
   "outputs": [
    {
     "data": {
      "text/html": [
       "<div>\n",
       "<style scoped>\n",
       "    .dataframe tbody tr th:only-of-type {\n",
       "        vertical-align: middle;\n",
       "    }\n",
       "\n",
       "    .dataframe tbody tr th {\n",
       "        vertical-align: top;\n",
       "    }\n",
       "\n",
       "    .dataframe thead th {\n",
       "        text-align: right;\n",
       "    }\n",
       "</style>\n",
       "<table border=\"1\" class=\"dataframe\">\n",
       "  <thead>\n",
       "    <tr style=\"text-align: right;\">\n",
       "      <th></th>\n",
       "      <th>Game</th>\n",
       "      <th>Platform</th>\n",
       "      <th>Year</th>\n",
       "    </tr>\n",
       "  </thead>\n",
       "  <tbody>\n",
       "    <tr>\n",
       "      <th>0</th>\n",
       "      <td>Grand Theft Auto V</td>\n",
       "      <td>Xbox One</td>\n",
       "      <td>2014.0</td>\n",
       "    </tr>\n",
       "    <tr>\n",
       "      <th>1</th>\n",
       "      <td>Call of Duty: Black Ops 3</td>\n",
       "      <td>Xbox One</td>\n",
       "      <td>2015.0</td>\n",
       "    </tr>\n",
       "    <tr>\n",
       "      <th>2</th>\n",
       "      <td>Call of Duty: WWII</td>\n",
       "      <td>Xbox One</td>\n",
       "      <td>2017.0</td>\n",
       "    </tr>\n",
       "    <tr>\n",
       "      <th>3</th>\n",
       "      <td>Red Dead Redemption 2</td>\n",
       "      <td>Xbox One</td>\n",
       "      <td>2018.0</td>\n",
       "    </tr>\n",
       "    <tr>\n",
       "      <th>4</th>\n",
       "      <td>MineCraft</td>\n",
       "      <td>Xbox One</td>\n",
       "      <td>2014.0</td>\n",
       "    </tr>\n",
       "  </tbody>\n",
       "</table>\n",
       "</div>"
      ],
      "text/plain": [
       "                        Game  Platform    Year\n",
       "0         Grand Theft Auto V  Xbox One  2014.0\n",
       "1  Call of Duty: Black Ops 3  Xbox One  2015.0\n",
       "2         Call of Duty: WWII  Xbox One  2017.0\n",
       "3      Red Dead Redemption 2  Xbox One  2018.0\n",
       "4                  MineCraft  Xbox One  2014.0"
      ]
     },
     "execution_count": 30,
     "metadata": {},
     "output_type": "execute_result"
    }
   ],
   "source": [
    "xb1_games_df = xb1_games_df[['Game', 'Platform', 'Year']]\n",
    "xb1_games_df.head()"
   ]
  },
  {
   "cell_type": "code",
   "execution_count": 32,
   "id": "f3a14fd3",
   "metadata": {},
   "outputs": [
    {
     "data": {
      "text/html": [
       "<div>\n",
       "<style scoped>\n",
       "    .dataframe tbody tr th:only-of-type {\n",
       "        vertical-align: middle;\n",
       "    }\n",
       "\n",
       "    .dataframe tbody tr th {\n",
       "        vertical-align: top;\n",
       "    }\n",
       "\n",
       "    .dataframe thead th {\n",
       "        text-align: right;\n",
       "    }\n",
       "</style>\n",
       "<table border=\"1\" class=\"dataframe\">\n",
       "  <thead>\n",
       "    <tr style=\"text-align: right;\">\n",
       "      <th></th>\n",
       "      <th>game</th>\n",
       "      <th>platform</th>\n",
       "      <th>release_year</th>\n",
       "    </tr>\n",
       "  </thead>\n",
       "  <tbody>\n",
       "    <tr>\n",
       "      <th>0</th>\n",
       "      <td>Grand Theft Auto V</td>\n",
       "      <td>Xbox One</td>\n",
       "      <td>2014.0</td>\n",
       "    </tr>\n",
       "    <tr>\n",
       "      <th>1</th>\n",
       "      <td>Call of Duty: Black Ops 3</td>\n",
       "      <td>Xbox One</td>\n",
       "      <td>2015.0</td>\n",
       "    </tr>\n",
       "    <tr>\n",
       "      <th>2</th>\n",
       "      <td>Call of Duty: WWII</td>\n",
       "      <td>Xbox One</td>\n",
       "      <td>2017.0</td>\n",
       "    </tr>\n",
       "    <tr>\n",
       "      <th>3</th>\n",
       "      <td>Red Dead Redemption 2</td>\n",
       "      <td>Xbox One</td>\n",
       "      <td>2018.0</td>\n",
       "    </tr>\n",
       "    <tr>\n",
       "      <th>4</th>\n",
       "      <td>MineCraft</td>\n",
       "      <td>Xbox One</td>\n",
       "      <td>2014.0</td>\n",
       "    </tr>\n",
       "  </tbody>\n",
       "</table>\n",
       "</div>"
      ],
      "text/plain": [
       "                        game  platform  release_year\n",
       "0         Grand Theft Auto V  Xbox One        2014.0\n",
       "1  Call of Duty: Black Ops 3  Xbox One        2015.0\n",
       "2         Call of Duty: WWII  Xbox One        2017.0\n",
       "3      Red Dead Redemption 2  Xbox One        2018.0\n",
       "4                  MineCraft  Xbox One        2014.0"
      ]
     },
     "execution_count": 32,
     "metadata": {},
     "output_type": "execute_result"
    }
   ],
   "source": [
    "xb1_games_df.columns = ['game', 'platform', 'release_year']\n",
    "xb1_games_df.head()"
   ]
  },
  {
   "cell_type": "code",
   "execution_count": 34,
   "id": "66dc8264",
   "metadata": {},
   "outputs": [],
   "source": [
    "rds_connection_string = \"postgres:93AImm!2020@localhost:5432/gaming_DB\"\n",
    "engine = create_engine(f'postgresql://{rds_connection_string}')"
   ]
  },
  {
   "cell_type": "code",
   "execution_count": 35,
   "id": "f602292a",
   "metadata": {},
   "outputs": [
    {
     "name": "stderr",
     "output_type": "stream",
     "text": [
      "<ipython-input-35-d72bc75a6b62>:1: SADeprecationWarning: The Engine.table_names() method is deprecated and will be removed in a future release.  Please refer to Inspector.get_table_names(). (deprecated since: 1.4)\n",
      "  engine.table_names()\n"
     ]
    },
    {
     "data": {
      "text/plain": [
       "['clean_allgames', 'combined_games']"
      ]
     },
     "execution_count": 35,
     "metadata": {},
     "output_type": "execute_result"
    }
   ],
   "source": [
    "engine.table_names()"
   ]
  },
  {
   "cell_type": "code",
   "execution_count": 36,
   "id": "23a0e327",
   "metadata": {},
   "outputs": [],
   "source": [
    "xb1_games_df.to_sql(name='combined_games', con=engine, if_exists='append', index=False)"
   ]
  },
  {
   "cell_type": "code",
   "execution_count": null,
   "id": "30706e32",
   "metadata": {},
   "outputs": [],
   "source": []
  }
 ],
 "metadata": {
  "kernelspec": {
   "display_name": "Python 3",
   "language": "python",
   "name": "python3"
  },
  "language_info": {
   "codemirror_mode": {
    "name": "ipython",
    "version": 3
   },
   "file_extension": ".py",
   "mimetype": "text/x-python",
   "name": "python",
   "nbconvert_exporter": "python",
   "pygments_lexer": "ipython3",
   "version": "3.8.8"
  }
 },
 "nbformat": 4,
 "nbformat_minor": 5
}
